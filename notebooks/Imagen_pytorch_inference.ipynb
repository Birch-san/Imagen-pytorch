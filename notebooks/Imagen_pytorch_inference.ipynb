{
  "nbformat": 4,
  "nbformat_minor": 0,
  "metadata": {
    "colab": {
      "name": "Imagen-pytorch-inference.ipynb",
      "provenance": [],
      "collapsed_sections": []
    },
    "kernelspec": {
      "name": "python3",
      "display_name": "Python 3"
    },
    "language_info": {
      "name": "python"
    },
    "accelerator": "GPU",
    "widgets": {
      "application/vnd.jupyter.widget-state+json": {
        "f4634aac698b421184107f6e70e9efb4": {
          "model_module": "@jupyter-widgets/controls",
          "model_name": "HBoxModel",
          "model_module_version": "1.5.0",
          "state": {
            "_dom_classes": [],
            "_model_module": "@jupyter-widgets/controls",
            "_model_module_version": "1.5.0",
            "_model_name": "HBoxModel",
            "_view_count": null,
            "_view_module": "@jupyter-widgets/controls",
            "_view_module_version": "1.5.0",
            "_view_name": "HBoxView",
            "box_style": "",
            "children": [
              "IPY_MODEL_abb53e9f60d847dd86f66a4545b4c36e",
              "IPY_MODEL_ba2763e1d15f4fb2a4a4a62c923b1acf",
              "IPY_MODEL_3ca574b2ebfc49a98d917176a090922d"
            ],
            "layout": "IPY_MODEL_c4667727024e4cd8a5c9c6d92483ddef"
          }
        },
        "abb53e9f60d847dd86f66a4545b4c36e": {
          "model_module": "@jupyter-widgets/controls",
          "model_name": "HTMLModel",
          "model_module_version": "1.5.0",
          "state": {
            "_dom_classes": [],
            "_model_module": "@jupyter-widgets/controls",
            "_model_module_version": "1.5.0",
            "_model_name": "HTMLModel",
            "_view_count": null,
            "_view_module": "@jupyter-widgets/controls",
            "_view_module_version": "1.5.0",
            "_view_name": "HTMLView",
            "description": "",
            "description_tooltip": null,
            "layout": "IPY_MODEL_06214f5bd50d4f83be07c773fc68569b",
            "placeholder": "​",
            "style": "IPY_MODEL_3eca0076d73f4f45978531f9c6691159",
            "value": "100%"
          }
        },
        "ba2763e1d15f4fb2a4a4a62c923b1acf": {
          "model_module": "@jupyter-widgets/controls",
          "model_name": "FloatProgressModel",
          "model_module_version": "1.5.0",
          "state": {
            "_dom_classes": [],
            "_model_module": "@jupyter-widgets/controls",
            "_model_module_version": "1.5.0",
            "_model_name": "FloatProgressModel",
            "_view_count": null,
            "_view_module": "@jupyter-widgets/controls",
            "_view_module_version": "1.5.0",
            "_view_name": "ProgressView",
            "bar_style": "success",
            "description": "",
            "description_tooltip": null,
            "layout": "IPY_MODEL_168f77875d36407095207c6993be9753",
            "max": 200,
            "min": 0,
            "orientation": "horizontal",
            "style": "IPY_MODEL_8180ab1416984285a52dd838634acf5e",
            "value": 200
          }
        },
        "3ca574b2ebfc49a98d917176a090922d": {
          "model_module": "@jupyter-widgets/controls",
          "model_name": "HTMLModel",
          "model_module_version": "1.5.0",
          "state": {
            "_dom_classes": [],
            "_model_module": "@jupyter-widgets/controls",
            "_model_module_version": "1.5.0",
            "_model_name": "HTMLModel",
            "_view_count": null,
            "_view_module": "@jupyter-widgets/controls",
            "_view_module_version": "1.5.0",
            "_view_name": "HTMLView",
            "description": "",
            "description_tooltip": null,
            "layout": "IPY_MODEL_c60f3f54c9964a4284d00e8f10d5bad7",
            "placeholder": "​",
            "style": "IPY_MODEL_496e7fb1c60b4093ba929db08e0b6cf9",
            "value": " 200/200 [00:22&lt;00:00,  8.89it/s]"
          }
        },
        "c4667727024e4cd8a5c9c6d92483ddef": {
          "model_module": "@jupyter-widgets/base",
          "model_name": "LayoutModel",
          "model_module_version": "1.2.0",
          "state": {
            "_model_module": "@jupyter-widgets/base",
            "_model_module_version": "1.2.0",
            "_model_name": "LayoutModel",
            "_view_count": null,
            "_view_module": "@jupyter-widgets/base",
            "_view_module_version": "1.2.0",
            "_view_name": "LayoutView",
            "align_content": null,
            "align_items": null,
            "align_self": null,
            "border": null,
            "bottom": null,
            "display": null,
            "flex": null,
            "flex_flow": null,
            "grid_area": null,
            "grid_auto_columns": null,
            "grid_auto_flow": null,
            "grid_auto_rows": null,
            "grid_column": null,
            "grid_gap": null,
            "grid_row": null,
            "grid_template_areas": null,
            "grid_template_columns": null,
            "grid_template_rows": null,
            "height": null,
            "justify_content": null,
            "justify_items": null,
            "left": null,
            "margin": null,
            "max_height": null,
            "max_width": null,
            "min_height": null,
            "min_width": null,
            "object_fit": null,
            "object_position": null,
            "order": null,
            "overflow": null,
            "overflow_x": null,
            "overflow_y": null,
            "padding": null,
            "right": null,
            "top": null,
            "visibility": null,
            "width": null
          }
        },
        "06214f5bd50d4f83be07c773fc68569b": {
          "model_module": "@jupyter-widgets/base",
          "model_name": "LayoutModel",
          "model_module_version": "1.2.0",
          "state": {
            "_model_module": "@jupyter-widgets/base",
            "_model_module_version": "1.2.0",
            "_model_name": "LayoutModel",
            "_view_count": null,
            "_view_module": "@jupyter-widgets/base",
            "_view_module_version": "1.2.0",
            "_view_name": "LayoutView",
            "align_content": null,
            "align_items": null,
            "align_self": null,
            "border": null,
            "bottom": null,
            "display": null,
            "flex": null,
            "flex_flow": null,
            "grid_area": null,
            "grid_auto_columns": null,
            "grid_auto_flow": null,
            "grid_auto_rows": null,
            "grid_column": null,
            "grid_gap": null,
            "grid_row": null,
            "grid_template_areas": null,
            "grid_template_columns": null,
            "grid_template_rows": null,
            "height": null,
            "justify_content": null,
            "justify_items": null,
            "left": null,
            "margin": null,
            "max_height": null,
            "max_width": null,
            "min_height": null,
            "min_width": null,
            "object_fit": null,
            "object_position": null,
            "order": null,
            "overflow": null,
            "overflow_x": null,
            "overflow_y": null,
            "padding": null,
            "right": null,
            "top": null,
            "visibility": null,
            "width": null
          }
        },
        "3eca0076d73f4f45978531f9c6691159": {
          "model_module": "@jupyter-widgets/controls",
          "model_name": "DescriptionStyleModel",
          "model_module_version": "1.5.0",
          "state": {
            "_model_module": "@jupyter-widgets/controls",
            "_model_module_version": "1.5.0",
            "_model_name": "DescriptionStyleModel",
            "_view_count": null,
            "_view_module": "@jupyter-widgets/base",
            "_view_module_version": "1.2.0",
            "_view_name": "StyleView",
            "description_width": ""
          }
        },
        "168f77875d36407095207c6993be9753": {
          "model_module": "@jupyter-widgets/base",
          "model_name": "LayoutModel",
          "model_module_version": "1.2.0",
          "state": {
            "_model_module": "@jupyter-widgets/base",
            "_model_module_version": "1.2.0",
            "_model_name": "LayoutModel",
            "_view_count": null,
            "_view_module": "@jupyter-widgets/base",
            "_view_module_version": "1.2.0",
            "_view_name": "LayoutView",
            "align_content": null,
            "align_items": null,
            "align_self": null,
            "border": null,
            "bottom": null,
            "display": null,
            "flex": null,
            "flex_flow": null,
            "grid_area": null,
            "grid_auto_columns": null,
            "grid_auto_flow": null,
            "grid_auto_rows": null,
            "grid_column": null,
            "grid_gap": null,
            "grid_row": null,
            "grid_template_areas": null,
            "grid_template_columns": null,
            "grid_template_rows": null,
            "height": null,
            "justify_content": null,
            "justify_items": null,
            "left": null,
            "margin": null,
            "max_height": null,
            "max_width": null,
            "min_height": null,
            "min_width": null,
            "object_fit": null,
            "object_position": null,
            "order": null,
            "overflow": null,
            "overflow_x": null,
            "overflow_y": null,
            "padding": null,
            "right": null,
            "top": null,
            "visibility": null,
            "width": null
          }
        },
        "8180ab1416984285a52dd838634acf5e": {
          "model_module": "@jupyter-widgets/controls",
          "model_name": "ProgressStyleModel",
          "model_module_version": "1.5.0",
          "state": {
            "_model_module": "@jupyter-widgets/controls",
            "_model_module_version": "1.5.0",
            "_model_name": "ProgressStyleModel",
            "_view_count": null,
            "_view_module": "@jupyter-widgets/base",
            "_view_module_version": "1.2.0",
            "_view_name": "StyleView",
            "bar_color": null,
            "description_width": ""
          }
        },
        "c60f3f54c9964a4284d00e8f10d5bad7": {
          "model_module": "@jupyter-widgets/base",
          "model_name": "LayoutModel",
          "model_module_version": "1.2.0",
          "state": {
            "_model_module": "@jupyter-widgets/base",
            "_model_module_version": "1.2.0",
            "_model_name": "LayoutModel",
            "_view_count": null,
            "_view_module": "@jupyter-widgets/base",
            "_view_module_version": "1.2.0",
            "_view_name": "LayoutView",
            "align_content": null,
            "align_items": null,
            "align_self": null,
            "border": null,
            "bottom": null,
            "display": null,
            "flex": null,
            "flex_flow": null,
            "grid_area": null,
            "grid_auto_columns": null,
            "grid_auto_flow": null,
            "grid_auto_rows": null,
            "grid_column": null,
            "grid_gap": null,
            "grid_row": null,
            "grid_template_areas": null,
            "grid_template_columns": null,
            "grid_template_rows": null,
            "height": null,
            "justify_content": null,
            "justify_items": null,
            "left": null,
            "margin": null,
            "max_height": null,
            "max_width": null,
            "min_height": null,
            "min_width": null,
            "object_fit": null,
            "object_position": null,
            "order": null,
            "overflow": null,
            "overflow_x": null,
            "overflow_y": null,
            "padding": null,
            "right": null,
            "top": null,
            "visibility": null,
            "width": null
          }
        },
        "496e7fb1c60b4093ba929db08e0b6cf9": {
          "model_module": "@jupyter-widgets/controls",
          "model_name": "DescriptionStyleModel",
          "model_module_version": "1.5.0",
          "state": {
            "_model_module": "@jupyter-widgets/controls",
            "_model_module_version": "1.5.0",
            "_model_name": "DescriptionStyleModel",
            "_view_count": null,
            "_view_module": "@jupyter-widgets/base",
            "_view_module_version": "1.2.0",
            "_view_name": "StyleView",
            "description_width": ""
          }
        }
      }
    }
  },
  "cells": [
    {
      "cell_type": "code",
      "source": [
        "%%capture\n",
        "!git lfs install\n",
        "!git clone https://huggingface.co/Cene655/Imagen-pytorch"
      ],
      "metadata": {
        "id": "tGVj74Zb2Dpx"
      },
      "execution_count": null,
      "outputs": []
    },
    {
      "cell_type": "code",
      "execution_count": 2,
      "metadata": {
        "id": "eBuoRWpcY3ph"
      },
      "outputs": [],
      "source": [
        "%%capture\n",
        "!pip install git+https://github.com/cene555/Imagen-pytorch.git\n",
        "!pip install git+https://github.com/openai/CLIP.git\n"
      ]
    },
    {
      "cell_type": "code",
      "source": [
        "%%capture\n",
        "!git clone https://github.com/xinntao/Real-ESRGAN.git"
      ],
      "metadata": {
        "id": "mH-AFZAEfyEJ"
      },
      "execution_count": 3,
      "outputs": []
    },
    {
      "cell_type": "code",
      "source": [
        "cd Real-ESRGAN"
      ],
      "metadata": {
        "id": "MvW2RHMHQl9g"
      },
      "execution_count": null,
      "outputs": []
    },
    {
      "cell_type": "code",
      "source": [
        "%%capture\n",
        "!pip install basicsr\n",
        "# facexlib and gfpgan are for face enhancement\n",
        "!pip install facexlib\n",
        "!pip install gfpgan"
      ],
      "metadata": {
        "id": "xIiOlXJzQosB"
      },
      "execution_count": 5,
      "outputs": []
    },
    {
      "cell_type": "code",
      "source": [
        "%%capture\n",
        "!pip install -r requirements.txt\n",
        "!python setup.py develop\n",
        "!wget https://github.com/xinntao/Real-ESRGAN/releases/download/v0.1.0/RealESRGAN_x4plus.pth -P experiments/pretrained_models"
      ],
      "metadata": {
        "id": "fChuITUYQstj"
      },
      "execution_count": 6,
      "outputs": []
    },
    {
      "cell_type": "code",
      "source": [
        "from PIL import Image\n",
        "from IPython.display import display\n",
        "import torch as th\n",
        "from imagen_pytorch.model_creation import create_model_and_diffusion as create_model_and_diffusion_dalle2\n",
        "from imagen_pytorch.model_creation import model_and_diffusion_defaults as model_and_diffusion_defaults_dalle2\n",
        "import clip\n",
        "import cv2\n",
        "\n",
        "import glob\n",
        "import os\n",
        "from basicsr.archs.rrdbnet_arch import RRDBNet\n",
        "\n",
        "from realesrgan import RealESRGANer\n",
        "from realesrgan.archs.srvgg_arch import SRVGGNetCompact\n",
        "from gfpgan import GFPGANer\n",
        "has_cuda = th.cuda.is_available()\n",
        "device = th.device('cpu' if not has_cuda else 'cuda')"
      ],
      "metadata": {
        "id": "HAGoFjvGZJ6s"
      },
      "execution_count": 8,
      "outputs": []
    },
    {
      "cell_type": "code",
      "source": [
        "options = model_and_diffusion_defaults_dalle2()\n",
        "options['use_fp16'] = False\n",
        "options['diffusion_steps'] = 200\n",
        "options['num_res_blocks'] = 3\n",
        "\n",
        "model, diffusion = create_model_and_diffusion_dalle2(**options)\n",
        "model.eval()\n",
        "#if has_cuda:\n",
        "#    model.convert_to_fp16()\n",
        "model.to(device)\n",
        "model.load_state_dict(th.load('/content/Imagen-pytorch/imagen-pytorch.pt'))\n",
        "print('total base parameters', sum(x.numel() for x in model.parameters()))"
      ],
      "metadata": {
        "id": "veXmk5XTZOuy"
      },
      "execution_count": null,
      "outputs": []
    },
    {
      "cell_type": "code",
      "source": [
        "num_params = sum(param.numel() for param in model.parameters())\n",
        "num_params"
      ],
      "metadata": {
        "id": "_mdhjDRmejr5"
      },
      "execution_count": null,
      "outputs": []
    },
    {
      "cell_type": "code",
      "source": [
        "def model_fn(x_t, ts, **kwargs):\n",
        "    guidance_scale = 3\n",
        "    half = x_t[: len(x_t) // 2]\n",
        "    combined = th.cat([half, half], dim=0)\n",
        "    model_out = model(combined, ts, **kwargs)\n",
        "    eps, rest = model_out[:, :3], model_out[:, 3:]\n",
        "    cond_eps, uncond_eps = th.split(eps, len(eps) // 2, dim=0)\n",
        "    half_eps = uncond_eps + guidance_scale * (cond_eps - uncond_eps)\n",
        "    eps = th.cat([half_eps, half_eps], dim=0)\n",
        "    return th.cat([eps, rest], dim=1)"
      ],
      "metadata": {
        "id": "Kp6HRM1vdFZq"
      },
      "execution_count": 110,
      "outputs": []
    },
    {
      "cell_type": "code",
      "source": [
        "def show_images(batch: th.Tensor):\n",
        "    \"\"\" Display a batch of images inline. \"\"\"\n",
        "    scaled = ((batch + 1)*127.5).round().clamp(0,255).to(th.uint8).cpu()\n",
        "    reshaped = scaled.permute(2, 0, 3, 1).reshape([batch.shape[2], -1, 3])\n",
        "    display(Image.fromarray(reshaped.numpy()))"
      ],
      "metadata": {
        "id": "RyQgjL0OdMeu"
      },
      "execution_count": 111,
      "outputs": []
    },
    {
      "cell_type": "code",
      "source": [
        "def get_numpy_img(img):\n",
        "    scaled = ((img + 1)*127.5).round().clamp(0,255).to(th.uint8).cpu()\n",
        "    reshaped = scaled.permute(2, 0, 3, 1).reshape([img.shape[2], -1, 3])\n",
        "    return cv2.cvtColor(reshaped.numpy(), cv2.COLOR_BGR2RGB)"
      ],
      "metadata": {
        "id": "rVHdkvoGPqJJ"
      },
      "execution_count": 112,
      "outputs": []
    },
    {
      "cell_type": "code",
      "source": [
        "realesrgan_model = RRDBNet(num_in_ch=3, num_out_ch=3, num_feat=64, num_block=23, num_grow_ch=32, scale=4)"
      ],
      "metadata": {
        "id": "4oDZRKP_NcV0"
      },
      "execution_count": 113,
      "outputs": []
    },
    {
      "cell_type": "code",
      "source": [
        "netscale = 4"
      ],
      "metadata": {
        "id": "BFl4yR5ONtil"
      },
      "execution_count": 114,
      "outputs": []
    },
    {
      "cell_type": "code",
      "source": [
        "upsampler = RealESRGANer(\n",
        "        scale=netscale,\n",
        "        model_path='/content/Real-ESRGAN/experiments/pretrained_models/RealESRGAN_x4plus.pth',\n",
        "        model=realesrgan_model,\n",
        "        tile=0,\n",
        "        tile_pad=10,\n",
        "        pre_pad=0,\n",
        "        half=True)"
      ],
      "metadata": {
        "id": "Vwy6nPleNuUN"
      },
      "execution_count": 115,
      "outputs": []
    },
    {
      "cell_type": "code",
      "source": [
        "face_enhancer = GFPGANer(\n",
        "            model_path='https://github.com/TencentARC/GFPGAN/releases/download/v1.3.0/GFPGANv1.3.pth',\n",
        "            upscale=4,\n",
        "            arch='clean',\n",
        "            channel_multiplier=2,\n",
        "            bg_upsampler=upsampler)"
      ],
      "metadata": {
        "id": "P_PiM5y5PHCe"
      },
      "execution_count": 116,
      "outputs": []
    },
    {
      "cell_type": "code",
      "source": [
        "from transformers import AutoTokenizer\n",
        "tokenizer = AutoTokenizer.from_pretrained(options['t5_name'])"
      ],
      "metadata": {
        "id": "ilBtcMcGcUSZ"
      },
      "execution_count": null,
      "outputs": []
    },
    {
      "cell_type": "code",
      "source": [
        "prompt = 'A winter'"
      ],
      "metadata": {
        "id": "I1E6jjzhvV40"
      },
      "execution_count": 132,
      "outputs": []
    },
    {
      "cell_type": "code",
      "source": [
        "text_encoding = tokenizer(\n",
        "            prompt,\n",
        "            max_length=128,\n",
        "            padding=\"max_length\",\n",
        "            truncation=True,\n",
        "            return_attention_mask=True,\n",
        "            add_special_tokens=True,\n",
        "            return_tensors=\"pt\")\n",
        "uncond_text_encoding = tokenizer(\n",
        "            '',\n",
        "            max_length=128,\n",
        "            padding=\"max_length\",\n",
        "            truncation=True,\n",
        "            return_attention_mask=True,\n",
        "            add_special_tokens=True,\n",
        "            return_tensors=\"pt\")"
      ],
      "metadata": {
        "id": "h3FFIeLrcuTX"
      },
      "execution_count": 133,
      "outputs": []
    },
    {
      "cell_type": "code",
      "source": [
        "out_dict = {}\n",
        "\n",
        "out_dict[\"tokens\"] = th.cat((text_encoding['input_ids'], uncond_text_encoding['input_ids'])).to(device)\n",
        "out_dict[\"mask\"] = th.cat((text_encoding['attention_mask'], uncond_text_encoding['attention_mask'])).to(device)"
      ],
      "metadata": {
        "id": "FDGIxz3MbtBS"
      },
      "execution_count": 134,
      "outputs": []
    },
    {
      "cell_type": "code",
      "source": [
        "sample = diffusion.p_sample_loop(\n",
        "        model_fn,\n",
        "        (2, 3, 64, 64),\n",
        "        clip_denoised=True,\n",
        "        model_kwargs=out_dict,\n",
        "        device='cuda',\n",
        "        progress=True,\n",
        "        )[:1]"
      ],
      "metadata": {
        "id": "D-4GzOBadCbj",
        "colab": {
          "base_uri": "https://localhost:8080/",
          "height": 49,
          "referenced_widgets": [
            "f4634aac698b421184107f6e70e9efb4",
            "abb53e9f60d847dd86f66a4545b4c36e",
            "ba2763e1d15f4fb2a4a4a62c923b1acf",
            "3ca574b2ebfc49a98d917176a090922d",
            "c4667727024e4cd8a5c9c6d92483ddef",
            "06214f5bd50d4f83be07c773fc68569b",
            "3eca0076d73f4f45978531f9c6691159",
            "168f77875d36407095207c6993be9753",
            "8180ab1416984285a52dd838634acf5e",
            "c60f3f54c9964a4284d00e8f10d5bad7",
            "496e7fb1c60b4093ba929db08e0b6cf9"
          ]
        },
        "outputId": "162b41bd-5e5b-4921-a485-ca0ee9a8f952"
      },
      "execution_count": 135,
      "outputs": [
        {
          "output_type": "display_data",
          "data": {
            "text/plain": [
              "  0%|          | 0/200 [00:00<?, ?it/s]"
            ],
            "application/vnd.jupyter.widget-view+json": {
              "version_major": 2,
              "version_minor": 0,
              "model_id": "f4634aac698b421184107f6e70e9efb4"
            }
          },
          "metadata": {}
        }
      ]
    },
    {
      "cell_type": "code",
      "source": [
        "show_images(sample)"
      ],
      "metadata": {
        "id": "hvsr_S-xMwyG",
        "colab": {
          "base_uri": "https://localhost:8080/",
          "height": 81
        },
        "outputId": "3ecf4000-a7a5-4ddb-b7e6-33cd5bff7d93"
      },
      "execution_count": 136,
      "outputs": [
        {
          "output_type": "display_data",
          "data": {
            "text/plain": [
              "<PIL.Image.Image image mode=RGB size=64x64 at 0x7FEE09430890>"
            ],
            "image/png": "[encoded data removed]"
          },
          "metadata": {}
        }
      ]
    },
    {
      "cell_type": "code",
      "source": [
        "%%time\n",
        "new_img = get_numpy_img(sample)\n",
        "for i in range(1):\n",
        "    _, _, new_img = face_enhancer.enhance(new_img, has_aligned=False, only_center_face=False, paste_back=True)"
      ],
      "metadata": {
        "id": "VAHtiUiyPZWg",
        "colab": {
          "base_uri": "https://localhost:8080/"
        },
        "outputId": "f9c81911-d97b-4d96-fc34-662e74072cfe"
      },
      "execution_count": 137,
      "outputs": [
        {
          "output_type": "stream",
          "name": "stdout",
          "text": [
            "CPU times: user 80.2 ms, sys: 0 ns, total: 80.2 ms\n",
            "Wall time: 81 ms\n"
          ]
        }
      ]
    },
    {
      "cell_type": "code",
      "source": [
        "cv2.imwrite('/content/test_out.jpg', new_img)"
      ],
      "metadata": {
        "id": "zQKw7Lk2RhOg",
        "colab": {
          "base_uri": "https://localhost:8080/"
        },
        "outputId": "20777340-9894-416c-f7f2-4655de7dfd97"
      },
      "execution_count": 138,
      "outputs": [
        {
          "output_type": "execute_result",
          "data": {
            "text/plain": [
              "True"
            ]
          },
          "metadata": {},
          "execution_count": 138
        }
      ]
    }
  ]
}