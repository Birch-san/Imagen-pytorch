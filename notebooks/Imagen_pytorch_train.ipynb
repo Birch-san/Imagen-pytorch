{
  "nbformat": 4,
  "nbformat_minor": 0,
  "metadata": {
    "colab": {
      "name": "Imagen-pytorch-train.ipynb",
      "provenance": [],
      "machine_shape": "hm",
      "collapsed_sections": []
    },
    "kernelspec": {
      "name": "python3",
      "display_name": "Python 3"
    },
    "language_info": {
      "name": "python"
    },
    "accelerator": "GPU"
  },
  "cells": [
    {
      "cell_type": "code",
      "source": [
        "!nvidia-smi"
      ],
      "metadata": {
        "colab": {
          "base_uri": "https://localhost:8080/"
        },
        "id": "rHAflrRRO92h",
        "outputId": "306e6c4f-588b-4552-e41b-a030370bc0bb"
      },
      "execution_count": null,
      "outputs": [
        {
          "output_type": "stream",
          "name": "stdout",
          "text": [
            "Mon May  9 20:02:57 2022       \n",
            "+-----------------------------------------------------------------------------+\n",
            "| NVIDIA-SMI 460.32.03    Driver Version: 460.32.03    CUDA Version: 11.2     |\n",
            "|-------------------------------+----------------------+----------------------+\n",
            "| GPU  Name        Persistence-M| Bus-Id        Disp.A | Volatile Uncorr. ECC |\n",
            "| Fan  Temp  Perf  Pwr:Usage/Cap|         Memory-Usage | GPU-Util  Compute M. |\n",
            "|                               |                      |               MIG M. |\n",
            "|===============================+======================+======================|\n",
            "|   0  Tesla P100-PCIE...  Off  | 00000000:00:04.0 Off |                    0 |\n",
            "| N/A   38C    P0    29W / 250W |      0MiB / 16280MiB |      0%      Default |\n",
            "|                               |                      |                  N/A |\n",
            "+-------------------------------+----------------------+----------------------+\n",
            "                                                                               \n",
            "+-----------------------------------------------------------------------------+\n",
            "| Processes:                                                                  |\n",
            "|  GPU   GI   CI        PID   Type   Process name                  GPU Memory |\n",
            "|        ID   ID                                                   Usage      |\n",
            "|=============================================================================|\n",
            "|  No running processes found                                                 |\n",
            "+-----------------------------------------------------------------------------+\n"
          ]
        }
      ]
    },
    {
      "cell_type": "code",
      "source": [
        "%%capture\n",
        "!wget http://images.cocodataset.org/zips/train2014.zip\n",
        "!wget http://images.cocodataset.org/annotations/annotations_trainval2014.zip"
      ],
      "metadata": {
        "id": "o0EsfG-V9h98"
      },
      "execution_count": 1,
      "outputs": []
    },
    {
      "cell_type": "code",
      "source": [
        "%%capture\n",
        "!git lfs install\n",
        "!git clone https://huggingface.co/Cene655/Imagen-pytorch"
      ],
      "metadata": {
        "id": "Q3WgWbgH-Dk9"
      },
      "execution_count": 2,
      "outputs": []
    },
    {
      "cell_type": "code",
      "execution_count": null,
      "metadata": {
        "id": "1kLzhUw-Dn84"
      },
      "outputs": [],
      "source": [
        "!pip install git+https://github.com/cene555/Imagen-pytorch.git"
      ]
    },
    {
      "cell_type": "code",
      "source": [
        "%%capture\n",
        "!unzip /content/train2014.zip\n",
        "!unzip /content/annotations_trainval2014.zip"
      ],
      "metadata": {
        "id": "U2-DdZuf3-2H"
      },
      "execution_count": 5,
      "outputs": []
    },
    {
      "cell_type": "code",
      "source": [
        "from PIL import Image\n",
        "from IPython.display import display\n",
        "import torch as th\n",
        "import pandas as pd\n",
        "from imagen_pytorch.download import load_checkpoint\n",
        "from imagen_pytorch.model_creation import (\n",
        "    create_model_and_diffusion,\n",
        "    model_and_diffusion_defaults,\n",
        ")\n",
        "from imagen_pytorch.resample import create_named_schedule_sampler\n",
        "\n",
        "from imagen_pytorch import dist_util, logger\n",
        "from imagen_pytorch.dataset import get_loader\n",
        "from imagen_pytorch.train_utils import TrainLoop\n",
        "\n",
        "has_cuda = th.cuda.is_available()\n",
        "device = th.device('cpu' if not has_cuda else 'cuda')"
      ],
      "metadata": {
        "id": "Lrf1Q0fxF84G"
      },
      "execution_count": 6,
      "outputs": []
    },
    {
      "cell_type": "code",
      "source": [
        "options = model_and_diffusion_defaults()\n",
        "options['use_fp16'] = False\n",
        "options['t5_name'] = 't5-large'\n",
        "model, diffusion = create_model_and_diffusion(**options)\n",
        "model.eval()\n",
        "#if has_cuda:\n",
        "#    model.convert_to_fp16()\n",
        "model.to(device)\n",
        "#model.load_state_dict(load_checkpoint('base', device), strict=False)\n",
        "model.load_state_dict(th.load('/content/Imagen-pytorch/imagen-pytorch.pt'))\n",
        "\n",
        "print('total base parameters', sum(x.numel() for x in model.parameters()))"
      ],
      "metadata": {
        "id": "zzuC3lkBXJOC"
      },
      "execution_count": null,
      "outputs": []
    },
    {
      "cell_type": "code",
      "source": [
        "def get_images_id(images_list):\n",
        "    images_dict = {}\n",
        "    for i in images_list:\n",
        "        images_dict[i['id']] = i['file_name']\n",
        "    return images_dict"
      ],
      "metadata": {
        "id": "m_BHX0JolxlX"
      },
      "execution_count": 8,
      "outputs": []
    },
    {
      "cell_type": "code",
      "source": [
        "import json\n",
        "\n",
        "with open('/content/annotations/captions_train2014.json') as json_file:\n",
        "    data = json.load(json_file)"
      ],
      "metadata": {
        "id": "NInRIuGYAW7P"
      },
      "execution_count": 9,
      "outputs": []
    },
    {
      "cell_type": "code",
      "source": [
        "images_dict = get_images_id(data['images'])"
      ],
      "metadata": {
        "id": "0UvlwE4vl3Uq"
      },
      "execution_count": 10,
      "outputs": []
    },
    {
      "cell_type": "code",
      "source": [
        "df = []\n",
        "for annotation in data['annotations']:\n",
        "    df.append([images_dict[annotation['image_id']], annotation['caption']])"
      ],
      "metadata": {
        "id": "0-4fc0nBndaw"
      },
      "execution_count": 11,
      "outputs": []
    },
    {
      "cell_type": "code",
      "source": [
        "df = pd.DataFrame(df)\n",
        "df.columns = ['path', 'text']"
      ],
      "metadata": {
        "id": "xP6yK679oAUK"
      },
      "execution_count": 12,
      "outputs": []
    },
    {
      "cell_type": "code",
      "source": [
        "data = get_loader(batch_size=4,\n",
        "                  resolution=64,\n",
        "                   image_dir='/content/train2014',\n",
        "                   df=df,\n",
        "                   tokenizer_name='t5-large', \n",
        "                   max_len=128,\n",
        "                   zero_text_prob=0.1,\n",
        "                   shuffle=True)"
      ],
      "metadata": {
        "id": "wKQowgyfnghV"
      },
      "execution_count": 14,
      "outputs": []
    },
    {
      "cell_type": "code",
      "source": [
        "next(data)"
      ],
      "metadata": {
        "id": "PRwPPGo4d_ce"
      },
      "execution_count": null,
      "outputs": []
    },
    {
      "cell_type": "code",
      "source": [
        "#a, b = next(data)"
      ],
      "metadata": {
        "id": "KQJJ-p86uavz"
      },
      "execution_count": 16,
      "outputs": []
    },
    {
      "cell_type": "code",
      "source": [
        "dist_util.setup_dist()\n",
        "logger.configure()\n",
        "\n",
        "logger.log(\"creating model and diffusion...\")"
      ],
      "metadata": {
        "id": "2gPkvOvlwcIJ",
        "colab": {
          "base_uri": "https://localhost:8080/"
        },
        "outputId": "c62ae7f7-2bb8-40c6-dce5-31f50b3e56f4"
      },
      "execution_count": 17,
      "outputs": [
        {
          "output_type": "stream",
          "name": "stdout",
          "text": [
            "Logging to /tmp/openai-2022-05-24-12-19-09-300494\n",
            "creating model and diffusion...\n"
          ]
        }
      ]
    },
    {
      "cell_type": "code",
      "source": [
        "schedule_sampler = create_named_schedule_sampler('uniform', diffusion)"
      ],
      "metadata": {
        "id": "CGImryV_wm1Q"
      },
      "execution_count": 18,
      "outputs": []
    },
    {
      "cell_type": "code",
      "source": [
        "TrainLoop(\n",
        "        model=model,\n",
        "        diffusion=diffusion,\n",
        "        data=data,\n",
        "        batch_size=4,\n",
        "        microbatch=-1,\n",
        "        lr=1e-4,\n",
        "        ema_rate=\"0.9999\",\n",
        "        log_interval=100,\n",
        "        save_interval=10000,\n",
        "        resume_checkpoint=False,\n",
        "        use_fp16=False,\n",
        "        fp16_scale_growth=1e-3,\n",
        "        schedule_sampler=schedule_sampler,\n",
        "        weight_decay=0.01,\n",
        "        lr_anneal_steps=0,\n",
        "        save_dir='/content/',\n",
        ").run_loop()"
      ],
      "metadata": {
        "id": "sdbHT76pqfXE"
      },
      "execution_count": null,
      "outputs": []
    },
    {
      "cell_type": "code",
      "source": [
        "th.save(model.state_dict(), 'imagen_new.pt')"
      ],
      "metadata": {
        "id": "OnuDncAQNH1s"
      },
      "execution_count": null,
      "outputs": []
    }
  ]
}