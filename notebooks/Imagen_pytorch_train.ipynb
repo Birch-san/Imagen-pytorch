{
  "nbformat": 4,
  "nbformat_minor": 0,
  "metadata": {
    "colab": {
      "name": "Imagen-pytorch-train.ipynb",
      "provenance": [],
      "machine_shape": "hm",
      "collapsed_sections": []
    },
    "kernelspec": {
      "name": "python3",
      "display_name": "Python 3"
    },
    "language_info": {
      "name": "python"
    },
    "accelerator": "GPU"
  },
  "cells": [
    {
      "cell_type": "code",
      "source": [
        "!nvidia-smi"
      ],
      "metadata": {
        "colab": {
          "base_uri": "https://localhost:8080/"
        },
        "id": "rHAflrRRO92h",
        "outputId": "306e6c4f-588b-4552-e41b-a030370bc0bb"
      },
      "execution_count": null,
      "outputs": [
        {
          "output_type": "stream",
          "name": "stdout",
          "text": [
            "Mon May  9 20:02:57 2022       \n",
            "+-----------------------------------------------------------------------------+\n",
            "| NVIDIA-SMI 460.32.03    Driver Version: 460.32.03    CUDA Version: 11.2     |\n",
            "|-------------------------------+----------------------+----------------------+\n",
            "| GPU  Name        Persistence-M| Bus-Id        Disp.A | Volatile Uncorr. ECC |\n",
            "| Fan  Temp  Perf  Pwr:Usage/Cap|         Memory-Usage | GPU-Util  Compute M. |\n",
            "|                               |                      |               MIG M. |\n",
            "|===============================+======================+======================|\n",
            "|   0  Tesla P100-PCIE...  Off  | 00000000:00:04.0 Off |                    0 |\n",
            "| N/A   38C    P0    29W / 250W |      0MiB / 16280MiB |      0%      Default |\n",
            "|                               |                      |                  N/A |\n",
            "+-------------------------------+----------------------+----------------------+\n",
            "                                                                               \n",
            "+-----------------------------------------------------------------------------+\n",
            "| Processes:                                                                  |\n",
            "|  GPU   GI   CI        PID   Type   Process name                  GPU Memory |\n",
            "|        ID   ID                                                   Usage      |\n",
            "|=============================================================================|\n",
            "|  No running processes found                                                 |\n",
            "+-----------------------------------------------------------------------------+\n"
          ]
        }
      ]
    },
    {
      "cell_type": "code",
      "source": [
        "%%capture\n",
        "!wget http://images.cocodataset.org/zips/train2014.zip\n",
        "!wget http://images.cocodataset.org/annotations/annotations_trainval2014.zip"
      ],
      "metadata": {
        "id": "o0EsfG-V9h98"
      },
      "execution_count": 1,
      "outputs": []
    },
    {
      "cell_type": "code",
      "source": [
        "%%capture\n",
        "!git lfs install\n",
        "!git clone https://huggingface.co/Cene655/Imagen-pytorch"
      ],
      "metadata": {
        "id": "Q3WgWbgH-Dk9"
      },
      "execution_count": 2,
      "outputs": []
    },
    {
      "cell_type": "code",
      "execution_count": null,
      "metadata": {
        "id": "1kLzhUw-Dn84"
      },
      "outputs": [],
      "source": [
        "!pip install git+https://github.com/cene555/Imagen-pytorch.git"
      ]
    },
    {
      "cell_type": "code",
      "source": [
        "%%capture\n",
        "!unzip /content/train2014.zip\n",
        "!unzip /content/annotations_trainval2014.zip"
      ],
      "metadata": {
        "id": "U2-DdZuf3-2H"
      },
      "execution_count": 5,
      "outputs": []
    },
    {
      "cell_type": "code",
      "source": [
        "from PIL import Image\n",
        "from IPython.display import display\n",
        "import torch as th\n",
        "import pandas as pd\n",
        "from imagen_pytorch.download import load_checkpoint\n",
        "from imagen_pytorch.model_creation import (\n",
        "    create_model_and_diffusion,\n",
        "    model_and_diffusion_defaults,\n",
        ")\n",
        "from imagen_pytorch.resample import create_named_schedule_sampler\n",
        "\n",
        "from imagen_pytorch import dist_util, logger\n",
        "from imagen_pytorch.dataset import get_loader\n",
        "from imagen_pytorch.train_utils import TrainLoop\n",
        "\n",
        "has_cuda = th.cuda.is_available()\n",
        "device = th.device('cpu' if not has_cuda else 'cuda')"
      ],
      "metadata": {
        "id": "Lrf1Q0fxF84G"
      },
      "execution_count": 6,
      "outputs": []
    },
    {
      "cell_type": "code",
      "source": [
        "options = model_and_diffusion_defaults()\n",
        "options['use_fp16'] = False\n",
        "options['t5_name'] = 't5-large'\n",
        "model, diffusion = create_model_and_diffusion(**options)\n",
        "model.eval()\n",
        "#if has_cuda:\n",
        "#    model.convert_to_fp16()\n",
        "model.to(device)\n",
        "#model.load_state_dict(load_checkpoint('base', device), strict=False)\n",
        "model.load_state_dict(th.load('/content/Imagen-pytorch/imagen-pytorch.pt'))\n",
        "\n",
        "print('total base parameters', sum(x.numel() for x in model.parameters()))"
      ],
      "metadata": {
        "id": "zzuC3lkBXJOC"
      },
      "execution_count": null,
      "outputs": []
    },
    {
      "cell_type": "code",
      "source": [
        "def get_images_id(images_list):\n",
        "    images_dict = {}\n",
        "    for i in images_list:\n",
        "        images_dict[i['id']] = i['file_name']\n",
        "    return images_dict"
      ],
      "metadata": {
        "id": "m_BHX0JolxlX"
      },
      "execution_count": 8,
      "outputs": []
    },
    {
      "cell_type": "code",
      "source": [
        "import json\n",
        "\n",
        "with open('/content/annotations/captions_train2014.json') as json_file:\n",
        "    data = json.load(json_file)"
      ],
      "metadata": {
        "id": "NInRIuGYAW7P"
      },
      "execution_count": 9,
      "outputs": []
    },
    {
      "cell_type": "code",
      "source": [
        "images_dict = get_images_id(data['images'])"
      ],
      "metadata": {
        "id": "0UvlwE4vl3Uq"
      },
      "execution_count": 10,
      "outputs": []
    },
    {
      "cell_type": "code",
      "source": [
        "df = []\n",
        "for annotation in data['annotations']:\n",
        "    df.append([images_dict[annotation['image_id']], annotation['caption']])"
      ],
      "metadata": {
        "id": "0-4fc0nBndaw"
      },
      "execution_count": 11,
      "outputs": []
    },
    {
      "cell_type": "code",
      "source": [
        "df = pd.DataFrame(df)\n",
        "df.columns = ['path', 'text']"
      ],
      "metadata": {
        "id": "xP6yK679oAUK"
      },
      "execution_count": 12,
      "outputs": []
    },
    {
      "cell_type": "code",
      "source": [
        "df"
      ],
      "metadata": {
        "colab": {
          "base_uri": "https://localhost:8080/",
          "height": 424
        },
        "id": "n9l9ms5doKcQ",
        "outputId": "e5171eaa-4bd1-47eb-bc1a-43e11dc3b9ce"
      },
      "execution_count": 13,
      "outputs": [
        {
          "output_type": "execute_result",
          "data": {
            "text/plain": [
              "                                   path  \\\n",
              "0       COCO_train2014_000000318556.jpg   \n",
              "1       COCO_train2014_000000116100.jpg   \n",
              "2       COCO_train2014_000000318556.jpg   \n",
              "3       COCO_train2014_000000116100.jpg   \n",
              "4       COCO_train2014_000000379340.jpg   \n",
              "...                                 ...   \n",
              "414108  COCO_train2014_000000133071.jpg   \n",
              "414109  COCO_train2014_000000410182.jpg   \n",
              "414110  COCO_train2014_000000180285.jpg   \n",
              "414111  COCO_train2014_000000133071.jpg   \n",
              "414112  COCO_train2014_000000133071.jpg   \n",
              "\n",
              "                                                     text  \n",
              "0          A very clean and well decorated empty bathroom  \n",
              "1       A panoramic view of a kitchen and all of its a...  \n",
              "2       A blue and white bathroom with butterfly theme...  \n",
              "3          A panoramic photo of a kitchen and dining room  \n",
              "4       A graffiti-ed stop sign across the street from...  \n",
              "...                                                   ...  \n",
              "414108  a slice of bread is covered with a sour cream ...  \n",
              "414109  A long plate hold some fries with some sliders...  \n",
              "414110       Two women sit and pose with stuffed animals.  \n",
              "414111  White Plate with a lot of guacamole and an ext...  \n",
              "414112      A dinner plate has a lemon wedge garnishment.  \n",
              "\n",
              "[414113 rows x 2 columns]"
            ],
            "text/html": [
              "\n",
              "  <div id=\"df-e6b402b5-987f-44de-aa85-0984687c93fa\">\n",
              "    <div class=\"colab-df-container\">\n",
              "      <div>\n",
              "<style scoped>\n",
              "    .dataframe tbody tr th:only-of-type {\n",
              "        vertical-align: middle;\n",
              "    }\n",
              "\n",
              "    .dataframe tbody tr th {\n",
              "        vertical-align: top;\n",
              "    }\n",
              "\n",
              "    .dataframe thead th {\n",
              "        text-align: right;\n",
              "    }\n",
              "</style>\n",
              "<table border=\"1\" class=\"dataframe\">\n",
              "  <thead>\n",
              "    <tr style=\"text-align: right;\">\n",
              "      <th></th>\n",
              "      <th>path</th>\n",
              "      <th>text</th>\n",
              "    </tr>\n",
              "  </thead>\n",
              "  <tbody>\n",
              "    <tr>\n",
              "      <th>0</th>\n",
              "      <td>COCO_train2014_000000318556.jpg</td>\n",
              "      <td>A very clean and well decorated empty bathroom</td>\n",
              "    </tr>\n",
              "    <tr>\n",
              "      <th>1</th>\n",
              "      <td>COCO_train2014_000000116100.jpg</td>\n",
              "      <td>A panoramic view of a kitchen and all of its a...</td>\n",
              "    </tr>\n",
              "    <tr>\n",
              "      <th>2</th>\n",
              "      <td>COCO_train2014_000000318556.jpg</td>\n",
              "      <td>A blue and white bathroom with butterfly theme...</td>\n",
              "    </tr>\n",
              "    <tr>\n",
              "      <th>3</th>\n",
              "      <td>COCO_train2014_000000116100.jpg</td>\n",
              "      <td>A panoramic photo of a kitchen and dining room</td>\n",
              "    </tr>\n",
              "    <tr>\n",
              "      <th>4</th>\n",
              "      <td>COCO_train2014_000000379340.jpg</td>\n",
              "      <td>A graffiti-ed stop sign across the street from...</td>\n",
              "    </tr>\n",
              "    <tr>\n",
              "      <th>...</th>\n",
              "      <td>...</td>\n",
              "      <td>...</td>\n",
              "    </tr>\n",
              "    <tr>\n",
              "      <th>414108</th>\n",
              "      <td>COCO_train2014_000000133071.jpg</td>\n",
              "      <td>a slice of bread is covered with a sour cream ...</td>\n",
              "    </tr>\n",
              "    <tr>\n",
              "      <th>414109</th>\n",
              "      <td>COCO_train2014_000000410182.jpg</td>\n",
              "      <td>A long plate hold some fries with some sliders...</td>\n",
              "    </tr>\n",
              "    <tr>\n",
              "      <th>414110</th>\n",
              "      <td>COCO_train2014_000000180285.jpg</td>\n",
              "      <td>Two women sit and pose with stuffed animals.</td>\n",
              "    </tr>\n",
              "    <tr>\n",
              "      <th>414111</th>\n",
              "      <td>COCO_train2014_000000133071.jpg</td>\n",
              "      <td>White Plate with a lot of guacamole and an ext...</td>\n",
              "    </tr>\n",
              "    <tr>\n",
              "      <th>414112</th>\n",
              "      <td>COCO_train2014_000000133071.jpg</td>\n",
              "      <td>A dinner plate has a lemon wedge garnishment.</td>\n",
              "    </tr>\n",
              "  </tbody>\n",
              "</table>\n",
              "<p>414113 rows × 2 columns</p>\n",
              "</div>\n",
              "      <button class=\"colab-df-convert\" onclick=\"convertToInteractive('df-e6b402b5-987f-44de-aa85-0984687c93fa')\"\n",
              "              title=\"Convert this dataframe to an interactive table.\"\n",
              "              style=\"display:none;\">\n",
              "        \n",
              "  <svg xmlns=\"http://www.w3.org/2000/svg\" height=\"24px\"viewBox=\"0 0 24 24\"\n",
              "       width=\"24px\">\n",
              "    <path d=\"M0 0h24v24H0V0z\" fill=\"none\"/>\n",
              "    <path d=\"M18.56 5.44l.94 2.06.94-2.06 2.06-.94-2.06-.94-.94-2.06-.94 2.06-2.06.94zm-11 1L8.5 8.5l.94-2.06 2.06-.94-2.06-.94L8.5 2.5l-.94 2.06-2.06.94zm10 10l.94 2.06.94-2.06 2.06-.94-2.06-.94-.94-2.06-.94 2.06-2.06.94z\"/><path d=\"M17.41 7.96l-1.37-1.37c-.4-.4-.92-.59-1.43-.59-.52 0-1.04.2-1.43.59L10.3 9.45l-7.72 7.72c-.78.78-.78 2.05 0 2.83L4 21.41c.39.39.9.59 1.41.59.51 0 1.02-.2 1.41-.59l7.78-7.78 2.81-2.81c.8-.78.8-2.07 0-2.86zM5.41 20L4 18.59l7.72-7.72 1.47 1.35L5.41 20z\"/>\n",
              "  </svg>\n",
              "      </button>\n",
              "      \n",
              "  <style>\n",
              "    .colab-df-container {\n",
              "      display:flex;\n",
              "      flex-wrap:wrap;\n",
              "      gap: 12px;\n",
              "    }\n",
              "\n",
              "    .colab-df-convert {\n",
              "      background-color: #E8F0FE;\n",
              "      border: none;\n",
              "      border-radius: 50%;\n",
              "      cursor: pointer;\n",
              "      display: none;\n",
              "      fill: #1967D2;\n",
              "      height: 32px;\n",
              "      padding: 0 0 0 0;\n",
              "      width: 32px;\n",
              "    }\n",
              "\n",
              "    .colab-df-convert:hover {\n",
              "      background-color: #E2EBFA;\n",
              "      box-shadow: 0px 1px 2px rgba(60, 64, 67, 0.3), 0px 1px 3px 1px rgba(60, 64, 67, 0.15);\n",
              "      fill: #174EA6;\n",
              "    }\n",
              "\n",
              "    [theme=dark] .colab-df-convert {\n",
              "      background-color: #3B4455;\n",
              "      fill: #D2E3FC;\n",
              "    }\n",
              "\n",
              "    [theme=dark] .colab-df-convert:hover {\n",
              "      background-color: #434B5C;\n",
              "      box-shadow: 0px 1px 3px 1px rgba(0, 0, 0, 0.15);\n",
              "      filter: drop-shadow(0px 1px 2px rgba(0, 0, 0, 0.3));\n",
              "      fill: #FFFFFF;\n",
              "    }\n",
              "  </style>\n",
              "\n",
              "      <script>\n",
              "        const buttonEl =\n",
              "          document.querySelector('#df-e6b402b5-987f-44de-aa85-0984687c93fa button.colab-df-convert');\n",
              "        buttonEl.style.display =\n",
              "          google.colab.kernel.accessAllowed ? 'block' : 'none';\n",
              "\n",
              "        async function convertToInteractive(key) {\n",
              "          const element = document.querySelector('#df-e6b402b5-987f-44de-aa85-0984687c93fa');\n",
              "          const dataTable =\n",
              "            await google.colab.kernel.invokeFunction('convertToInteractive',\n",
              "                                                     [key], {});\n",
              "          if (!dataTable) return;\n",
              "\n",
              "          const docLinkHtml = 'Like what you see? Visit the ' +\n",
              "            '<a target=\"_blank\" href=https://colab.research.google.com/notebooks/data_table.ipynb>data table notebook</a>'\n",
              "            + ' to learn more about interactive tables.';\n",
              "          element.innerHTML = '';\n",
              "          dataTable['output_type'] = 'display_data';\n",
              "          await google.colab.output.renderOutput(dataTable, element);\n",
              "          const docLink = document.createElement('div');\n",
              "          docLink.innerHTML = docLinkHtml;\n",
              "          element.appendChild(docLink);\n",
              "        }\n",
              "      </script>\n",
              "    </div>\n",
              "  </div>\n",
              "  "
            ]
          },
          "metadata": {},
          "execution_count": 13
        }
      ]
    },
    {
      "cell_type": "code",
      "source": [
        "data = get_loader(batch_size=4,\n",
        "                  resolution=64,\n",
        "                   image_dir='/content/train2014',\n",
        "                   df=df,\n",
        "                   tokenizer_name='t5-large', \n",
        "                   max_len=128,\n",
        "                   zero_text_prob=0.1,\n",
        "                   shuffle=True)"
      ],
      "metadata": {
        "id": "wKQowgyfnghV"
      },
      "execution_count": 14,
      "outputs": []
    },
    {
      "cell_type": "code",
      "source": [
        "next(data)"
      ],
      "metadata": {
        "id": "PRwPPGo4d_ce"
      },
      "execution_count": null,
      "outputs": []
    },
    {
      "cell_type": "code",
      "source": [
        "#a, b = next(data)"
      ],
      "metadata": {
        "id": "KQJJ-p86uavz"
      },
      "execution_count": 16,
      "outputs": []
    },
    {
      "cell_type": "code",
      "source": [
        "dist_util.setup_dist()\n",
        "logger.configure()\n",
        "\n",
        "logger.log(\"creating model and diffusion...\")"
      ],
      "metadata": {
        "id": "2gPkvOvlwcIJ",
        "colab": {
          "base_uri": "https://localhost:8080/"
        },
        "outputId": "c62ae7f7-2bb8-40c6-dce5-31f50b3e56f4"
      },
      "execution_count": 17,
      "outputs": [
        {
          "output_type": "stream",
          "name": "stdout",
          "text": [
            "Logging to /tmp/openai-2022-05-24-12-19-09-300494\n",
            "creating model and diffusion...\n"
          ]
        }
      ]
    },
    {
      "cell_type": "code",
      "source": [
        "schedule_sampler = create_named_schedule_sampler('uniform', diffusion)"
      ],
      "metadata": {
        "id": "CGImryV_wm1Q"
      },
      "execution_count": 18,
      "outputs": []
    },
    {
      "cell_type": "code",
      "source": [
        "TrainLoop(\n",
        "        model=model,\n",
        "        diffusion=diffusion,\n",
        "        data=data,\n",
        "        batch_size=4,\n",
        "        microbatch=-1,\n",
        "        lr=1e-4,\n",
        "        ema_rate=\"0.9999\",\n",
        "        log_interval=100,\n",
        "        save_interval=10000,\n",
        "        resume_checkpoint=False,\n",
        "        use_fp16=False,\n",
        "        fp16_scale_growth=1e-3,\n",
        "        schedule_sampler=schedule_sampler,\n",
        "        weight_decay=0.01,\n",
        "        lr_anneal_steps=0,\n",
        "        save_dir='/content/',\n",
        ").run_loop()"
      ],
      "metadata": {
        "id": "sdbHT76pqfXE"
      },
      "execution_count": null,
      "outputs": []
    },
    {
      "cell_type": "code",
      "source": [
        "th.save(model.state_dict(), 'imagen_new.pt')"
      ],
      "metadata": {
        "id": "OnuDncAQNH1s"
      },
      "execution_count": null,
      "outputs": []
    }
  ]
}